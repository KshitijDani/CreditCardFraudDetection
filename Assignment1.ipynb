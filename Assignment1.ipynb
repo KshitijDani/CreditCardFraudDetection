{
 "cells": [
  {
   "cell_type": "code",
   "execution_count": 1,
   "metadata": {},
   "outputs": [
    {
     "name": "stderr",
     "output_type": "stream",
     "text": [
      "/Users/kshitijdani/anaconda3/lib/python3.6/site-packages/IPython/core/interactiveshell.py:2785: DtypeWarning: Columns (1,2,3,4,5,6,24,25) have mixed types. Specify dtype option on import or set low_memory=False.\n",
      "  interactivity=interactivity, compiler=compiler, result=result)\n"
     ]
    },
    {
     "data": {
      "text/html": [
       "<div>\n",
       "<style scoped>\n",
       "    .dataframe tbody tr th:only-of-type {\n",
       "        vertical-align: middle;\n",
       "    }\n",
       "\n",
       "    .dataframe tbody tr th {\n",
       "        vertical-align: top;\n",
       "    }\n",
       "\n",
       "    .dataframe thead th {\n",
       "        text-align: right;\n",
       "    }\n",
       "</style>\n",
       "<table border=\"1\" class=\"dataframe\">\n",
       "  <thead>\n",
       "    <tr style=\"text-align: right;\">\n",
       "      <th></th>\n",
       "      <th>Time</th>\n",
       "      <th>V7</th>\n",
       "      <th>V8</th>\n",
       "      <th>V9</th>\n",
       "      <th>V10</th>\n",
       "      <th>V11</th>\n",
       "      <th>V12</th>\n",
       "      <th>V13</th>\n",
       "      <th>V14</th>\n",
       "      <th>V15</th>\n",
       "      <th>...</th>\n",
       "      <th>V19</th>\n",
       "      <th>V20</th>\n",
       "      <th>V21</th>\n",
       "      <th>V22</th>\n",
       "      <th>V23</th>\n",
       "      <th>V26</th>\n",
       "      <th>V27</th>\n",
       "      <th>V28</th>\n",
       "      <th>Amount</th>\n",
       "      <th>Class</th>\n",
       "    </tr>\n",
       "  </thead>\n",
       "  <tbody>\n",
       "    <tr>\n",
       "      <th>count</th>\n",
       "      <td>284909.000000</td>\n",
       "      <td>284909.000000</td>\n",
       "      <td>2.849090e+05</td>\n",
       "      <td>284909.000000</td>\n",
       "      <td>284909.000000</td>\n",
       "      <td>284909.000000</td>\n",
       "      <td>284909.000000</td>\n",
       "      <td>284909.000000</td>\n",
       "      <td>284909.000000</td>\n",
       "      <td>284909.000000</td>\n",
       "      <td>...</td>\n",
       "      <td>284909.000000</td>\n",
       "      <td>284909.000000</td>\n",
       "      <td>284909.000000</td>\n",
       "      <td>284909.000000</td>\n",
       "      <td>284909.000000</td>\n",
       "      <td>284909.000000</td>\n",
       "      <td>284909.000000</td>\n",
       "      <td>284909.000000</td>\n",
       "      <td>284909.000000</td>\n",
       "      <td>284909.000000</td>\n",
       "    </tr>\n",
       "    <tr>\n",
       "      <th>mean</th>\n",
       "      <td>94826.986259</td>\n",
       "      <td>0.000171</td>\n",
       "      <td>-9.434918e-07</td>\n",
       "      <td>-0.000010</td>\n",
       "      <td>0.000002</td>\n",
       "      <td>-0.000179</td>\n",
       "      <td>-0.000015</td>\n",
       "      <td>-0.000082</td>\n",
       "      <td>-0.000065</td>\n",
       "      <td>-0.000087</td>\n",
       "      <td>...</td>\n",
       "      <td>-0.000051</td>\n",
       "      <td>-0.000043</td>\n",
       "      <td>0.000012</td>\n",
       "      <td>0.000078</td>\n",
       "      <td>0.000004</td>\n",
       "      <td>0.000003</td>\n",
       "      <td>-0.000013</td>\n",
       "      <td>-0.000024</td>\n",
       "      <td>88.377411</td>\n",
       "      <td>0.001727</td>\n",
       "    </tr>\n",
       "    <tr>\n",
       "      <th>std</th>\n",
       "      <td>47485.356111</td>\n",
       "      <td>1.238456</td>\n",
       "      <td>1.194284e+00</td>\n",
       "      <td>1.098634</td>\n",
       "      <td>1.088858</td>\n",
       "      <td>1.020704</td>\n",
       "      <td>0.999100</td>\n",
       "      <td>0.995248</td>\n",
       "      <td>0.958601</td>\n",
       "      <td>0.915340</td>\n",
       "      <td>...</td>\n",
       "      <td>0.814020</td>\n",
       "      <td>0.771120</td>\n",
       "      <td>0.734477</td>\n",
       "      <td>0.725728</td>\n",
       "      <td>0.624450</td>\n",
       "      <td>0.482240</td>\n",
       "      <td>0.403712</td>\n",
       "      <td>0.330074</td>\n",
       "      <td>250.395279</td>\n",
       "      <td>0.041520</td>\n",
       "    </tr>\n",
       "    <tr>\n",
       "      <th>min</th>\n",
       "      <td>0.000000</td>\n",
       "      <td>-43.557242</td>\n",
       "      <td>-7.321672e+01</td>\n",
       "      <td>-13.434066</td>\n",
       "      <td>-24.588262</td>\n",
       "      <td>-4.797473</td>\n",
       "      <td>-18.683715</td>\n",
       "      <td>-5.791881</td>\n",
       "      <td>-19.214325</td>\n",
       "      <td>-4.498945</td>\n",
       "      <td>...</td>\n",
       "      <td>-7.213527</td>\n",
       "      <td>-54.497720</td>\n",
       "      <td>-34.830382</td>\n",
       "      <td>-10.933144</td>\n",
       "      <td>-44.807735</td>\n",
       "      <td>-2.604551</td>\n",
       "      <td>-22.565679</td>\n",
       "      <td>-15.430084</td>\n",
       "      <td>0.000000</td>\n",
       "      <td>0.000000</td>\n",
       "    </tr>\n",
       "    <tr>\n",
       "      <th>25%</th>\n",
       "      <td>54215.000000</td>\n",
       "      <td>-0.554068</td>\n",
       "      <td>-2.086343e-01</td>\n",
       "      <td>-0.643099</td>\n",
       "      <td>-0.535465</td>\n",
       "      <td>-0.762624</td>\n",
       "      <td>-0.405605</td>\n",
       "      <td>-0.648564</td>\n",
       "      <td>-0.425604</td>\n",
       "      <td>-0.582953</td>\n",
       "      <td>...</td>\n",
       "      <td>-0.456307</td>\n",
       "      <td>-0.211761</td>\n",
       "      <td>-0.228390</td>\n",
       "      <td>-0.542335</td>\n",
       "      <td>-0.161859</td>\n",
       "      <td>-0.326979</td>\n",
       "      <td>-0.070856</td>\n",
       "      <td>-0.052972</td>\n",
       "      <td>5.600000</td>\n",
       "      <td>0.000000</td>\n",
       "    </tr>\n",
       "    <tr>\n",
       "      <th>50%</th>\n",
       "      <td>84728.000000</td>\n",
       "      <td>0.040103</td>\n",
       "      <td>2.235024e-02</td>\n",
       "      <td>-0.051416</td>\n",
       "      <td>-0.092926</td>\n",
       "      <td>-0.032868</td>\n",
       "      <td>0.139926</td>\n",
       "      <td>-0.013625</td>\n",
       "      <td>0.050601</td>\n",
       "      <td>0.047875</td>\n",
       "      <td>...</td>\n",
       "      <td>0.003738</td>\n",
       "      <td>-0.062497</td>\n",
       "      <td>-0.029435</td>\n",
       "      <td>0.006832</td>\n",
       "      <td>-0.011192</td>\n",
       "      <td>-0.052114</td>\n",
       "      <td>0.001341</td>\n",
       "      <td>0.011233</td>\n",
       "      <td>22.000000</td>\n",
       "      <td>0.000000</td>\n",
       "    </tr>\n",
       "    <tr>\n",
       "      <th>75%</th>\n",
       "      <td>139310.000000</td>\n",
       "      <td>0.570497</td>\n",
       "      <td>3.273893e-01</td>\n",
       "      <td>0.597165</td>\n",
       "      <td>0.453998</td>\n",
       "      <td>0.739334</td>\n",
       "      <td>0.618108</td>\n",
       "      <td>0.662416</td>\n",
       "      <td>0.493119</td>\n",
       "      <td>0.648726</td>\n",
       "      <td>...</td>\n",
       "      <td>0.458867</td>\n",
       "      <td>0.133017</td>\n",
       "      <td>0.186431</td>\n",
       "      <td>0.528673</td>\n",
       "      <td>0.147643</td>\n",
       "      <td>0.240944</td>\n",
       "      <td>0.091033</td>\n",
       "      <td>0.078281</td>\n",
       "      <td>77.180000</td>\n",
       "      <td>0.000000</td>\n",
       "    </tr>\n",
       "    <tr>\n",
       "      <th>max</th>\n",
       "      <td>172792.000000</td>\n",
       "      <td>120.589494</td>\n",
       "      <td>2.000721e+01</td>\n",
       "      <td>15.594995</td>\n",
       "      <td>23.745136</td>\n",
       "      <td>12.018913</td>\n",
       "      <td>7.848392</td>\n",
       "      <td>7.126883</td>\n",
       "      <td>10.526766</td>\n",
       "      <td>8.877742</td>\n",
       "      <td>...</td>\n",
       "      <td>5.591971</td>\n",
       "      <td>39.420904</td>\n",
       "      <td>27.202839</td>\n",
       "      <td>10.503090</td>\n",
       "      <td>22.528412</td>\n",
       "      <td>3.517346</td>\n",
       "      <td>31.612198</td>\n",
       "      <td>33.847808</td>\n",
       "      <td>25691.160000</td>\n",
       "      <td>1.000000</td>\n",
       "    </tr>\n",
       "  </tbody>\n",
       "</table>\n",
       "<p>8 rows × 23 columns</p>\n",
       "</div>"
      ],
      "text/plain": [
       "                Time             V7            V8             V9  \\\n",
       "count  284909.000000  284909.000000  2.849090e+05  284909.000000   \n",
       "mean    94826.986259       0.000171 -9.434918e-07      -0.000010   \n",
       "std     47485.356111       1.238456  1.194284e+00       1.098634   \n",
       "min         0.000000     -43.557242 -7.321672e+01     -13.434066   \n",
       "25%     54215.000000      -0.554068 -2.086343e-01      -0.643099   \n",
       "50%     84728.000000       0.040103  2.235024e-02      -0.051416   \n",
       "75%    139310.000000       0.570497  3.273893e-01       0.597165   \n",
       "max    172792.000000     120.589494  2.000721e+01      15.594995   \n",
       "\n",
       "                 V10            V11            V12            V13  \\\n",
       "count  284909.000000  284909.000000  284909.000000  284909.000000   \n",
       "mean        0.000002      -0.000179      -0.000015      -0.000082   \n",
       "std         1.088858       1.020704       0.999100       0.995248   \n",
       "min       -24.588262      -4.797473     -18.683715      -5.791881   \n",
       "25%        -0.535465      -0.762624      -0.405605      -0.648564   \n",
       "50%        -0.092926      -0.032868       0.139926      -0.013625   \n",
       "75%         0.453998       0.739334       0.618108       0.662416   \n",
       "max        23.745136      12.018913       7.848392       7.126883   \n",
       "\n",
       "                 V14            V15      ...                  V19  \\\n",
       "count  284909.000000  284909.000000      ...        284909.000000   \n",
       "mean       -0.000065      -0.000087      ...            -0.000051   \n",
       "std         0.958601       0.915340      ...             0.814020   \n",
       "min       -19.214325      -4.498945      ...            -7.213527   \n",
       "25%        -0.425604      -0.582953      ...            -0.456307   \n",
       "50%         0.050601       0.047875      ...             0.003738   \n",
       "75%         0.493119       0.648726      ...             0.458867   \n",
       "max        10.526766       8.877742      ...             5.591971   \n",
       "\n",
       "                 V20            V21            V22            V23  \\\n",
       "count  284909.000000  284909.000000  284909.000000  284909.000000   \n",
       "mean       -0.000043       0.000012       0.000078       0.000004   \n",
       "std         0.771120       0.734477       0.725728       0.624450   \n",
       "min       -54.497720     -34.830382     -10.933144     -44.807735   \n",
       "25%        -0.211761      -0.228390      -0.542335      -0.161859   \n",
       "50%        -0.062497      -0.029435       0.006832      -0.011192   \n",
       "75%         0.133017       0.186431       0.528673       0.147643   \n",
       "max        39.420904      27.202839      10.503090      22.528412   \n",
       "\n",
       "                 V26            V27            V28         Amount  \\\n",
       "count  284909.000000  284909.000000  284909.000000  284909.000000   \n",
       "mean        0.000003      -0.000013      -0.000024      88.377411   \n",
       "std         0.482240       0.403712       0.330074     250.395279   \n",
       "min        -2.604551     -22.565679     -15.430084       0.000000   \n",
       "25%        -0.326979      -0.070856      -0.052972       5.600000   \n",
       "50%        -0.052114       0.001341       0.011233      22.000000   \n",
       "75%         0.240944       0.091033       0.078281      77.180000   \n",
       "max         3.517346      31.612198      33.847808   25691.160000   \n",
       "\n",
       "               Class  \n",
       "count  284909.000000  \n",
       "mean        0.001727  \n",
       "std         0.041520  \n",
       "min         0.000000  \n",
       "25%         0.000000  \n",
       "50%         0.000000  \n",
       "75%         0.000000  \n",
       "max         1.000000  \n",
       "\n",
       "[8 rows x 23 columns]"
      ]
     },
     "execution_count": 1,
     "metadata": {},
     "output_type": "execute_result"
    }
   ],
   "source": [
    "import pandas as pd\n",
    "import numpy as np\n",
    "%matplotlib inline\n",
    "import matplotlib.pyplot as plt\n",
    "data = pd.read_csv(\"creditcard.csv\")\n",
    "data.describe()"
   ]
  },
  {
   "cell_type": "code",
   "execution_count": 2,
   "metadata": {},
   "outputs": [
    {
     "name": "stdout",
     "output_type": "stream",
     "text": [
      "<class 'pandas.core.frame.DataFrame'>\n",
      "Int64Index: 283798 entries, 0 to 284907\n",
      "Data columns (total 31 columns):\n",
      "Time      283798 non-null int64\n",
      "V1        283798 non-null object\n",
      "V2        283798 non-null object\n",
      "V3        283798 non-null object\n",
      "V4        283798 non-null object\n",
      "V5        283798 non-null object\n",
      "V6        283798 non-null object\n",
      "V7        283798 non-null float64\n",
      "V8        283798 non-null float64\n",
      "V9        283798 non-null float64\n",
      "V10       283798 non-null float64\n",
      "V11       283798 non-null float64\n",
      "V12       283798 non-null float64\n",
      "V13       283798 non-null float64\n",
      "V14       283798 non-null float64\n",
      "V15       283798 non-null float64\n",
      "V16       283798 non-null float64\n",
      "V17       283798 non-null float64\n",
      "V18       283798 non-null float64\n",
      "V19       283798 non-null float64\n",
      "V20       283798 non-null float64\n",
      "V21       283798 non-null float64\n",
      "V22       283798 non-null float64\n",
      "V23       283798 non-null float64\n",
      "V24       283798 non-null object\n",
      "V25       283798 non-null object\n",
      "V26       283798 non-null float64\n",
      "V27       283798 non-null float64\n",
      "V28       283798 non-null float64\n",
      "Amount    283798 non-null float64\n",
      "Class     283798 non-null int64\n",
      "dtypes: float64(21), int64(2), object(8)\n",
      "memory usage: 69.3+ MB\n"
     ]
    }
   ],
   "source": [
    "data.dropna(inplace=True)\n",
    "data=data.drop_duplicates()\n",
    "data = data[data.V1 != '%']\n",
    "data = data[data.V2 != '%']\n",
    "data = data[data.V3 != '%']\n",
    "data = data[data.V4 != '%']\n",
    "data = data[data.V5 != '%']\n",
    "data = data[data.V6 != '%']\n",
    "data = data[data.V24 != '%']\n",
    "data = data[data.V25 != '%']\n",
    "data= data[data[\"V1\"]!='?'] \n",
    "data= data[data[\"V2\"]!='?']  \n",
    "data= data[data[\"V3\"]!='?']  \n",
    "data= data[data[\"V4\"]!='?']  \n",
    "data= data[data[\"V5\"]!='?']  \n",
    "data= data[data[\"V6\"]!='?']  \n",
    "data= data[data[\"V24\"]!='?']  \n",
    "data= data[data[\"V25\"]!='?']  \n",
    "data= data[data[\"V1\"]!='.'] \n",
    "data= data[data[\"V2\"]!='.']  \n",
    "data= data[data[\"V3\"]!='.']  \n",
    "data= data[data[\"V4\"]!='.']  \n",
    "data= data[data[\"V5\"]!='.']  \n",
    "data= data[data[\"V6\"]!='.']  \n",
    "data= data[data[\"V24\"]!='.']  \n",
    "data= data[data[\"V25\"]!='.']  \n",
    "data= data[data[\"V1\"]!=']'] \n",
    "data= data[data[\"V2\"]!=']']  \n",
    "data= data[data[\"V3\"]!=']']  \n",
    "data= data[data[\"V4\"]!=']']  \n",
    "data= data[data[\"V5\"]!=']']  \n",
    "data= data[data[\"V6\"]!=']']  \n",
    "data= data[data[\"V24\"]!=']']  \n",
    "data= data[data[\"V25\"]!=']']  \n",
    "data= data[data[\"V1\"]!='['] \n",
    "data= data[data[\"V2\"]!='[']  \n",
    "data= data[data[\"V3\"]!='[']  \n",
    "data= data[data[\"V4\"]!='[']  \n",
    "data= data[data[\"V5\"]!='[']  \n",
    "data= data[data[\"V6\"]!='[']  \n",
    "data= data[data[\"V24\"]!='[']  \n",
    "data= data[data[\"V25\"]!='[']  \n",
    "data= data[data[\"V1\"]!=';'] \n",
    "data= data[data[\"V2\"]!=';']  \n",
    "data= data[data[\"V3\"]!=';']  \n",
    "data= data[data[\"V4\"]!=';']  \n",
    "data= data[data[\"V5\"]!=';']  \n",
    "data= data[data[\"V6\"]!=';']  \n",
    "data= data[data[\"V24\"]!=';']  \n",
    "data= data[data[\"V25\"]!=';'] \n",
    "data= data[data[\"V1\"]!=','] \n",
    "data= data[data[\"V2\"]!=',']  \n",
    "data= data[data[\"V3\"]!=',']  \n",
    "data= data[data[\"V4\"]!=',']  \n",
    "data= data[data[\"V5\"]!=',']  \n",
    "data= data[data[\"V6\"]!=',']  \n",
    "data= data[data[\"V24\"]!=',']  \n",
    "data= data[data[\"V25\"]!=',']  \n",
    "data= data[data[\"V24\"]!='/']  \n",
    "data= data[data[\"V25\"]!='/']  \n",
    "data= data[data[\"V3\"]!='\\'']  \n",
    "data= data[data[\"V4\"]!='\\'']  \n",
    "data= data[data[\"V5\"]!='\\'']  \n",
    "data= data[data[\"V6\"]!='\\'']  \n",
    "data= data[data[\"V24\"]!='\\'']  \n",
    "data= data[data[\"V25\"]!='\\'']  \n",
    "data.info()"
   ]
  },
  {
   "cell_type": "code",
   "execution_count": 3,
   "metadata": {},
   "outputs": [],
   "source": [
    "data.V1 = data.V1.astype(float)\n",
    "data.V2 = data.V2.astype(float)\n",
    "data.V3 = data.V3.astype(float)\n",
    "data.V4 = data.V4.astype(float)\n",
    "data.V5 = data.V5.astype(float)\n",
    "data.V6 = data.V6.astype(float)\n",
    "data.V24 = data.V24.astype(float)\n",
    "data.V25 = data.V25.astype(float)\n"
   ]
  },
  {
   "cell_type": "code",
   "execution_count": 4,
   "metadata": {
    "scrolled": true
   },
   "outputs": [
    {
     "data": {
      "text/plain": [
       "<matplotlib.image.AxesImage at 0x106dbf470>"
      ]
     },
     "execution_count": 4,
     "metadata": {},
     "output_type": "execute_result"
    },
    {
     "data": {
      "image/png": "[encoded data removed]",
      "text/plain": [
       "<Figure size 288x288 with 1 Axes>"
      ]
     },
     "metadata": {},
     "output_type": "display_data"
    }
   ],
   "source": [
    "data.corr()\n",
    "plt.matshow(data.corr(),cmap='Blues')"
   ]
  },
  {
   "cell_type": "code",
   "execution_count": 5,
   "metadata": {},
   "outputs": [],
   "source": [
    "from sklearn.decomposition import PCA\n",
    "from sklearn.preprocessing import StandardScaler\n",
    "\n",
    "import seaborn as sns\n",
    "\n",
    "from sklearn.cluster import KMeans\n",
    "from sklearn.cluster import DBSCAN\n",
    "from sklearn.cluster import Birch\n",
    "from sklearn.cluster import AgglomerativeClustering as AC\n",
    "\n",
    "from sklearn import preprocessing\n",
    "from collections import Counter \n",
    "\n",
    "from sklearn.metrics import accuracy_score\n",
    "from sklearn.metrics import matthews_corrcoef\n",
    "from sklearn.metrics import mean_squared_error\n",
    "\n",
    "\n",
    "\n"
   ]
  },
  {
   "cell_type": "code",
   "execution_count": 6,
   "metadata": {
    "scrolled": true
   },
   "outputs": [
    {
     "data": {
      "text/plain": [
       "0         0\n",
       "1         0\n",
       "2         0\n",
       "3         0\n",
       "4         0\n",
       "5         0\n",
       "6         0\n",
       "7         0\n",
       "8         0\n",
       "9         0\n",
       "10        0\n",
       "11        0\n",
       "13        0\n",
       "14        0\n",
       "15        0\n",
       "16        0\n",
       "17        0\n",
       "18        0\n",
       "19        0\n",
       "20        0\n",
       "21        0\n",
       "22        0\n",
       "23        0\n",
       "24        0\n",
       "25        0\n",
       "26        0\n",
       "27        0\n",
       "28        0\n",
       "29        0\n",
       "30        0\n",
       "         ..\n",
       "284869    0\n",
       "284870    0\n",
       "284871    0\n",
       "284872    0\n",
       "284874    0\n",
       "284875    0\n",
       "284876    0\n",
       "284877    0\n",
       "284878    0\n",
       "284879    0\n",
       "284881    0\n",
       "284882    0\n",
       "284883    0\n",
       "284884    0\n",
       "284886    0\n",
       "284887    0\n",
       "284888    0\n",
       "284890    0\n",
       "284891    0\n",
       "284893    0\n",
       "284895    0\n",
       "284896    0\n",
       "284898    0\n",
       "284900    0\n",
       "284901    0\n",
       "284903    0\n",
       "284904    0\n",
       "284905    0\n",
       "284906    0\n",
       "284907    0\n",
       "Name: Class, Length: 283798, dtype: int8"
      ]
     },
     "execution_count": 6,
     "metadata": {},
     "output_type": "execute_result"
    }
   ],
   "source": [
    "Y = data.Class\n",
    "pd.to_numeric(Y, downcast='signed')\n",
    "#Storing all the class in a list of type int"
   ]
  },
  {
   "cell_type": "code",
   "execution_count": 7,
   "metadata": {},
   "outputs": [],
   "source": [
    "#K MEANS BEGINS\n",
    "data = data.iloc[:,:30]\n"
   ]
  },
  {
   "cell_type": "code",
   "execution_count": 8,
   "metadata": {},
   "outputs": [
    {
     "data": {
      "image/png": "[encoded data removed]",
      "text/plain": [
       "<Figure size 432x288 with 1 Axes>"
      ]
     },
     "metadata": {},
     "output_type": "display_data"
    }
   ],
   "source": [
    "wcss = []\n",
    "for i in range(1,5):\n",
    "    kmeans = KMeans(n_clusters = i,init = 'k-means++',random_state = 0)\n",
    "    kmeans.fit(data)\n",
    "    wcss.append(kmeans.inertia_)\n",
    "plt.plot(range(1,5),wcss)\n",
    "plt.title('The Elbow Method')\n",
    "plt.xlabel('Number of cluster')\n",
    "plt.ylabel('WCSS')\n",
    "plt.show()"
   ]
  },
  {
   "cell_type": "code",
   "execution_count": 9,
   "metadata": {},
   "outputs": [
    {
     "data": {
      "text/plain": [
       "Counter({0: 152568, 1: 131230})"
      ]
     },
     "execution_count": 9,
     "metadata": {},
     "output_type": "execute_result"
    }
   ],
   "source": [
    "kmeans = KMeans(n_clusters = 2,init = 'k-means++',random_state = 0) \n",
    "y2_kmeans = kmeans.fit_predict(data)\n",
    "Counter(y2_kmeans)"
   ]
  },
  {
   "cell_type": "code",
   "execution_count": 10,
   "metadata": {},
   "outputs": [
    {
     "name": "stdout",
     "output_type": "stream",
     "text": [
      "0.5370615719631568\n",
      "0.680395787785935\n",
      "-0.010000019791830071\n"
     ]
    }
   ],
   "source": [
    "acck2 = accuracy_score(Y,y2_kmeans)\n",
    "rootk2 = np.sqrt(mean_squared_error(Y,y2_kmeans))\n",
    "corrk2 = matthews_corrcoef(Y,y2_kmeans)\n",
    "print(acck2)\n",
    "print(rootk2)\n",
    "print(corrk2)"
   ]
  },
  {
   "cell_type": "code",
   "execution_count": 11,
   "metadata": {
    "scrolled": true
   },
   "outputs": [],
   "source": [
    "#Running PCA on the data\n",
    "data_Matrix = data.iloc[:,:30].values #storing dataframe values into a Matrix or ndarray\n",
    "pca = PCA(n_components=2)\n",
    "data_Matrix = StandardScaler().fit_transform(data_Matrix)\n",
    "principalComponents = pca.fit_transform(data_Matrix)\n",
    "pdf = pd.DataFrame(data = principalComponents, columns = ['pc 1', 'pc 2'])"
   ]
  },
  {
   "cell_type": "code",
   "execution_count": 12,
   "metadata": {},
   "outputs": [
    {
     "data": {
      "text/plain": [
       "<matplotlib.collections.PathCollection at 0x107f71128>"
      ]
     },
     "execution_count": 12,
     "metadata": {},
     "output_type": "execute_result"
    },
    {
     "data": {
      "image/png": "[encoded data removed]",
      "text/plain": [
       "<Figure size 432x288 with 1 Axes>"
      ]
     },
     "metadata": {},
     "output_type": "display_data"
    }
   ],
   "source": [
    "#K means on the Data after further PCA\n",
    "kmeans = KMeans(n_clusters = 2,init = 'k-means++',random_state = 0) \n",
    "y2_kmeans_PCA = kmeans.fit_predict(pdf)\n",
    "Counter(y2_kmeans_PCA)\n",
    "%matplotlib inline\n",
    "plt.figsize=(40,40)\n",
    "plt.scatter(pdf.iloc[:,0],pdf.iloc[:,1],c=y2_kmeans_PCA)"
   ]
  },
  {
   "cell_type": "code",
   "execution_count": 13,
   "metadata": {},
   "outputs": [
    {
     "name": "stdout",
     "output_type": "stream",
     "text": [
      "0.44954509897885114\n",
      "0.7419264795255315\n",
      "0.009269966655346039\n"
     ]
    }
   ],
   "source": [
    "acck2PCA = accuracy_score(Y,y2_kmeans_PCA)\n",
    "rootk2PCA = np.sqrt(mean_squared_error(Y,y2_kmeans_PCA))\n",
    "corrk2PCA = matthews_corrcoef(Y,y2_kmeans_PCA)\n",
    "print(acck2PCA)\n",
    "print(rootk2PCA)\n",
    "print(corrk2PCA)"
   ]
  },
  {
   "cell_type": "code",
   "execution_count": 14,
   "metadata": {},
   "outputs": [],
   "source": [
    "#DBSCAN BEGINS"
   ]
  },
  {
   "cell_type": "code",
   "execution_count": 15,
   "metadata": {},
   "outputs": [
    {
     "data": {
      "text/plain": [
       "Counter({0: 283710,\n",
       "         -1: 52,\n",
       "         1: 2,\n",
       "         2: 2,\n",
       "         3: 2,\n",
       "         4: 3,\n",
       "         5: 2,\n",
       "         6: 2,\n",
       "         7: 2,\n",
       "         8: 6,\n",
       "         9: 3,\n",
       "         10: 2,\n",
       "         11: 4,\n",
       "         12: 2,\n",
       "         13: 2,\n",
       "         14: 2})"
      ]
     },
     "execution_count": 15,
     "metadata": {},
     "output_type": "execute_result"
    }
   ],
   "source": [
    "# trying with eps 1000\n",
    "\n",
    "dbscan = DBSCAN(eps=1000, metric='euclidean', min_samples=2)\n",
    "dbsc = dbscan.fit(data)\n",
    "dbsc.labels_\n",
    "Counter(dbsc.labels_)"
   ]
  },
  {
   "cell_type": "code",
   "execution_count": 16,
   "metadata": {},
   "outputs": [
    {
     "name": "stdout",
     "output_type": "stream",
     "text": [
      "Accuracy of this DBSCAN is = 0.9980232418833114\n",
      "Root Mean Square of this DBSCAN is = 0.10535389869725545\n",
      "Correlation of this DBSCAN is = -0.0003679599397427888\n"
     ]
    }
   ],
   "source": [
    "acc1 = accuracy_score(Y,dbsc.labels_)\n",
    "root1 = np.sqrt(mean_squared_error(Y,dbsc.labels_))\n",
    "corr1 = matthews_corrcoef(Y,dbsc.labels_)\n",
    "print(\"Accuracy of this DBSCAN eps=1000 is =\",acc1)\n",
    "print(\"Root Mean Square of this DBSCAN is eps=1000 =\",root1)\n",
    "print(\"Correlation of this DBSCAN eps= 1000 is =\",corr1)"
   ]
  },
  {
   "cell_type": "code",
   "execution_count": 17,
   "metadata": {},
   "outputs": [
    {
     "data": {
      "text/plain": [
       "Counter({0: 283789, -1: 9})"
      ]
     },
     "execution_count": 17,
     "metadata": {},
     "output_type": "execute_result"
    }
   ],
   "source": [
    "#trying with eps 3000\n",
    "dbscan = DBSCAN(eps=3000, metric='euclidean', min_samples=2)\n",
    "dbsc = dbscan.fit(data)\n",
    "Counter(dbsc.labels_)"
   ]
  },
  {
   "cell_type": "code",
   "execution_count": 18,
   "metadata": {},
   "outputs": [
    {
     "name": "stdout",
     "output_type": "stream",
     "text": [
      "0.9983016088908307\n",
      "0.041211540970572766\n",
      "-0.0001150486698459505\n"
     ]
    }
   ],
   "source": [
    "acc2 = accuracy_score(Y,dbsc.labels_)\n",
    "root2 = np.sqrt(mean_squared_error(Y,dbsc.labels_))\n",
    "corr2 = matthews_corrcoef(Y,dbsc.labels_)\n",
    "print(\"Accuracy of this DBSCAN eps=3000 is =\",acc2)\n",
    "print(\"Root Mean Square of this DBSCAN eps=3000 is =\",root2)\n",
    "print(\"Correlation of this DBSCAN eps=3000 is =\",corr2)"
   ]
  },
  {
   "cell_type": "code",
   "execution_count": 19,
   "metadata": {},
   "outputs": [
    {
     "name": "stdout",
     "output_type": "stream",
     "text": [
      "            pc 1      pc 2\n",
      "0       0.404136 -2.540137\n",
      "1      -0.412908 -2.057401\n",
      "2       1.822147 -2.519876\n",
      "3       0.288260 -1.771123\n",
      "4      -0.007495 -1.473696\n",
      "5      -0.369992 -2.068312\n",
      "6      -0.411072 -1.527528\n",
      "7      -0.177335 -0.985514\n",
      "8       0.051368 -1.197490\n",
      "9      -0.378148 -1.827973\n",
      "10     -0.365996 -2.102834\n",
      "11     -0.348534 -0.546772\n",
      "12      0.238508 -2.113637\n",
      "13     -0.275389 -1.840064\n",
      "14     -0.376412 -1.712603\n",
      "15     -0.375988 -1.891926\n",
      "16     -0.353394 -1.996895\n",
      "17     -0.421530 -1.310044\n",
      "18     -0.704072 -0.966131\n",
      "19     -0.388322 -1.969127\n",
      "20      0.832699 -2.029719\n",
      "21     -0.253208 -2.275659\n",
      "22     -0.411191 -1.893688\n",
      "23     -0.186862 -2.226331\n",
      "24     -0.582423 -1.594547\n",
      "25     -0.364142 -1.723576\n",
      "26     -0.200072 -1.820705\n",
      "27     -0.338510 -1.782789\n",
      "28     -0.188003 -1.948741\n",
      "29     -0.346213 -2.088231\n",
      "...          ...       ...\n",
      "283768 -0.402112  1.291517\n",
      "283769 -0.459158  1.209373\n",
      "283770 -0.284059 -0.573600\n",
      "283771 -0.483792  1.655096\n",
      "283772 -0.567340  1.771319\n",
      "283773  0.369267  1.058107\n",
      "283774  0.320054 -0.011699\n",
      "283775 -0.429496  1.048531\n",
      "283776 -0.351298  1.404671\n",
      "283777 -0.240683  1.245686\n",
      "283778  0.233759  0.780762\n",
      "283779  0.076234 -0.726941\n",
      "283780 -0.599343  1.215895\n",
      "283781  8.910680  2.463743\n",
      "283782 -0.400134  0.315170\n",
      "283783 -0.489503  0.078338\n",
      "283784 -0.304837  1.025289\n",
      "283785 -0.426268  1.019449\n",
      "283786 -0.546534  0.832710\n",
      "283787 -0.559449  0.832299\n",
      "283788 -0.517698  1.590062\n",
      "283789  0.144147  1.588167\n",
      "283790 -0.294506  0.832103\n",
      "283791  1.105910  2.814396\n",
      "283792 -0.440424  0.766042\n",
      "283793 -0.509090  1.033644\n",
      "283794  4.033980  1.212895\n",
      "283795 -0.081447  1.858988\n",
      "283796 -0.414194  1.347461\n",
      "283797 -0.526025  1.674971\n",
      "\n",
      "[283798 rows x 2 columns]\n"
     ]
    }
   ],
   "source": [
    "data_Matrix = pdf.values\n",
    "print(pdf)"
   ]
  },
  {
   "cell_type": "code",
   "execution_count": 24,
   "metadata": {},
   "outputs": [],
   "source": [
    "#Performing BIRCH CLUSTERING\n",
    "\n",
    "BRC = Birch(branching_factor=50, n_clusters=2, threshold=0.5)\n",
    "data_Matrix_predict = BRC.fit_predict(data_Matrix)\n",
    "accBRC = accuracy_score(Y,data_Matrix_predict)\n",
    "rootBRC = np.sqrt(mean_squared_error(Y,data_Matrix_predict))\n",
    "corrBRC = matthews_corrcoef(Y,data_Matrix_predict)"
   ]
  },
  {
   "cell_type": "code",
   "execution_count": 23,
   "metadata": {},
   "outputs": [
    {
     "name": "stdout",
     "output_type": "stream",
     "text": [
      "Accuracy of Birch is =  0.0030761316147400616\n",
      "Root mean square of Birch is =  0.9984607495466509\n",
      "Correlation between class and predicted class is =  0.001535040106108969\n"
     ]
    },
    {
     "data": {
      "text/plain": [
       "<matplotlib.collections.PathCollection at 0x1a72073898>"
      ]
     },
     "execution_count": 23,
     "metadata": {},
     "output_type": "execute_result"
    },
    {
     "data": {
      "image/png": "[encoded data removed]",
      "text/plain": [
       "<Figure size 432x288 with 1 Axes>"
      ]
     },
     "metadata": {},
     "output_type": "display_data"
    }
   ],
   "source": [
    "print(\"Accuracy of Birch is = \",accBRC)\n",
    "print(\"Root mean square of Birch is = \" , rootBRC)\n",
    "print(\"Correlation between class and predicted class is = \",corrBRC)\n",
    "plt.scatter(pdf.iloc[:,0],pdf.iloc[:,1],c=data_Matrix_predict)"
   ]
  }
 ],
 "metadata": {
  "kernelspec": {
   "display_name": "Python 3",
   "language": "python",
   "name": "python3"
  },
  "language_info": {
   "codemirror_mode": {
    "name": "ipython",
    "version": 3
   },
   "file_extension": ".py",
   "mimetype": "text/x-python",
   "name": "python",
   "nbconvert_exporter": "python",
   "pygments_lexer": "ipython3",
   "version": "3.6.5"
  }
 },
 "nbformat": 4,
 "nbformat_minor": 2
}
